{
  "nbformat": 4,
  "nbformat_minor": 0,
  "metadata": {
    "colab": {
      "name": "12.23.ipynb",
      "version": "0.3.2",
      "provenance": [],
      "include_colab_link": true
    },
    "kernelspec": {
      "display_name": "Python 3",
      "language": "python",
      "name": "python3"
    }
  },
  "cells": [
    {
      "cell_type": "markdown",
      "metadata": {
        "id": "view-in-github",
        "colab_type": "text"
      },
      "source": [
        "<a href=\"https://colab.research.google.com/github/prasad4fun/Exploratory-Data-Analysis/blob/master/CI_bootstrapping.ipynb\" target=\"_parent\"><img src=\"https://colab.research.google.com/assets/colab-badge.svg\" alt=\"Open In Colab\"/></a>"
      ]
    },
    {
      "metadata": {
        "id": "fct-NTjcYNZ0",
        "colab_type": "text"
      },
      "cell_type": "markdown",
      "source": [
        "# Empirical bootstrap based Confidence Interval"
      ]
    },
    {
      "metadata": {
        "id": "1Z7NCqEcYNZ4",
        "colab_type": "code",
        "outputId": "7a7c7294-f8f9-4b4c-999c-488d8d71a0d6",
        "colab": {
          "base_uri": "https://localhost:8080/",
          "height": 364
        }
      },
      "cell_type": "code",
      "source": [
        "import numpy\n",
        "from pandas import read_csv\n",
        "from sklearn.utils import resample\n",
        "from sklearn.metrics import accuracy_score\n",
        "from matplotlib import pyplot\n",
        "\n",
        "# load dataset\n",
        "x = numpy.array([180,162,158,172,168,150,171,183,165,176])\n",
        "\n",
        "# configure bootstrap\n",
        "n_iterations = 1000\n",
        "n_size = int(len(x))\n",
        "\n",
        "# run bootstrap\n",
        "medians = list()\n",
        "for i in range(n_iterations):\n",
        "    # prepare train and test sets\n",
        "    s = resample(x, n_samples=n_size);\n",
        "    m = numpy.median(s);\n",
        "    #print(m)\n",
        "    medians.append(m)\n",
        "\n",
        "# plot scores\n",
        "pyplot.hist(medians)\n",
        "pyplot.show()\n",
        "\n",
        "# confidence intervals\n",
        "alpha = 0.95\n",
        "p = ((1.0-alpha)/2.0) * 100\n",
        "lower =  numpy.percentile(medians, p)\n",
        "\n",
        "p = (alpha+((1.0-alpha)/2.0)) * 100\n",
        "upper =  numpy.percentile(medians, p)\n",
        "print('%.1f confidence interval %.1f and %.1f' % (alpha*100, lower, upper))\n",
        "\n"
      ],
      "execution_count": 10,
      "outputs": [
        {
          "output_type": "display_data",
          "data": {
            "image/png": "[encoded data removed]",
            "text/plain": [
              "<Figure size 576x396 with 1 Axes>"
            ]
          },
          "metadata": {
            "tags": []
          }
        },
        {
          "output_type": "stream",
          "text": [
            "95.0 confidence interval 162.0 and 176.0\n"
          ],
          "name": "stdout"
        }
      ]
    },
    {
      "metadata": {
        "id": "Vs6ap1b2obIj",
        "colab_type": "code",
        "colab": {}
      },
      "cell_type": "code",
      "source": [
        ""
      ],
      "execution_count": 0,
      "outputs": []
    }
  ]
}